{
 "cells": [
  {
   "cell_type": "code",
   "execution_count": 1,
   "metadata": {},
   "outputs": [
    {
     "ename": "AttributeError",
     "evalue": "'DataFrame' object has no attribute 'Sentence'",
     "output_type": "error",
     "traceback": [
      "\u001b[1;31m---------------------------------------------------------------------------\u001b[0m",
      "\u001b[1;31mAttributeError\u001b[0m                            Traceback (most recent call last)",
      "\u001b[1;32m~\\AppData\\Local\\Temp\\ipykernel_26268\\2202920300.py\u001b[0m in \u001b[0;36m<module>\u001b[1;34m\u001b[0m\n\u001b[0;32m     21\u001b[0m \u001b[1;33m\u001b[0m\u001b[0m\n\u001b[0;32m     22\u001b[0m \u001b[1;31m#Create a list of all the sentences\u001b[0m\u001b[1;33m\u001b[0m\u001b[1;33m\u001b[0m\u001b[0m\n\u001b[1;32m---> 23\u001b[1;33m \u001b[0msentences\u001b[0m \u001b[1;33m=\u001b[0m \u001b[0mdf\u001b[0m\u001b[1;33m.\u001b[0m\u001b[0mSentence\u001b[0m\u001b[1;33m.\u001b[0m\u001b[0munique\u001b[0m\u001b[1;33m(\u001b[0m\u001b[1;33m)\u001b[0m\u001b[1;33m.\u001b[0m\u001b[0mtolist\u001b[0m\u001b[1;33m(\u001b[0m\u001b[1;33m)\u001b[0m\u001b[1;33m\u001b[0m\u001b[1;33m\u001b[0m\u001b[0m\n\u001b[0m\u001b[0;32m     24\u001b[0m \u001b[1;33m\u001b[0m\u001b[0m\n\u001b[0;32m     25\u001b[0m \u001b[1;31m#Create a list of all the episode. Give each episode a name season_X_episode_Y, where X is the season number and Y is the episode number\u001b[0m\u001b[1;33m\u001b[0m\u001b[1;33m\u001b[0m\u001b[0m\n",
      "\u001b[1;32mc:\\Users\\Asger\\anaconda3\\lib\\site-packages\\pandas\\core\\generic.py\u001b[0m in \u001b[0;36m__getattr__\u001b[1;34m(self, name)\u001b[0m\n\u001b[0;32m   5573\u001b[0m         ):\n\u001b[0;32m   5574\u001b[0m             \u001b[1;32mreturn\u001b[0m \u001b[0mself\u001b[0m\u001b[1;33m[\u001b[0m\u001b[0mname\u001b[0m\u001b[1;33m]\u001b[0m\u001b[1;33m\u001b[0m\u001b[1;33m\u001b[0m\u001b[0m\n\u001b[1;32m-> 5575\u001b[1;33m         \u001b[1;32mreturn\u001b[0m \u001b[0mobject\u001b[0m\u001b[1;33m.\u001b[0m\u001b[0m__getattribute__\u001b[0m\u001b[1;33m(\u001b[0m\u001b[0mself\u001b[0m\u001b[1;33m,\u001b[0m \u001b[0mname\u001b[0m\u001b[1;33m)\u001b[0m\u001b[1;33m\u001b[0m\u001b[1;33m\u001b[0m\u001b[0m\n\u001b[0m\u001b[0;32m   5576\u001b[0m \u001b[1;33m\u001b[0m\u001b[0m\n\u001b[0;32m   5577\u001b[0m     \u001b[1;32mdef\u001b[0m \u001b[0m__setattr__\u001b[0m\u001b[1;33m(\u001b[0m\u001b[0mself\u001b[0m\u001b[1;33m,\u001b[0m \u001b[0mname\u001b[0m\u001b[1;33m:\u001b[0m \u001b[0mstr\u001b[0m\u001b[1;33m,\u001b[0m \u001b[0mvalue\u001b[0m\u001b[1;33m)\u001b[0m \u001b[1;33m->\u001b[0m \u001b[1;32mNone\u001b[0m\u001b[1;33m:\u001b[0m\u001b[1;33m\u001b[0m\u001b[1;33m\u001b[0m\u001b[0m\n",
      "\u001b[1;31mAttributeError\u001b[0m: 'DataFrame' object has no attribute 'Sentence'"
     ]
    }
   ],
   "source": [
    "#Fetch the transcript from the csv file Game_of_Thrones_Script.csv\n",
    "#Format: Release Date,Season,Episode,Episode Title,Name,Sentence\n",
    "#Collect all characters and their sentences in a dictionary for each episode\n",
    "#Store the dictionary in a list for each season\n",
    "\n",
    "import csv\n",
    "import re\n",
    "import pandas as pd\n",
    "\n",
    "#Read the csv file\n",
    "df = pd.read_csv('../files/Game_of_Thrones_Script.csv')\n",
    "\n",
    "#Create a list of all the seasons\n",
    "seasons = df.Season.unique().tolist()\n",
    "\n",
    "#Create a list of all the episodes\n",
    "episodes = df.Episode.unique().tolist()\n",
    "\n",
    "#Create a list of all the characters\n",
    "characters = df.Name.unique().tolist()\n",
    "\n",
    "#Create a list of all the sentences\n",
    "sentences = df.Sentence.unique().tolist()\n",
    "\n",
    "#Create a list of all the episode. Give each episode a name season_X_episode_Y, where X is the season number and Y is the episode number\n",
    "episodes_list = []\n",
    "for season in seasons:\n",
    "    for episode in episodes:\n",
    "        episodes_list.append('season_' + str(season) + '_episode_' + str(episode))\n",
    "\n",
    "\n",
    "#Collect all characters and their sentences in a dictionary for each episode\n",
    "#Store the dictionary in a list for each season\n",
    "\"\"\" seasons_list = []\n",
    "\n",
    "for season in seasons:\n",
    "    season_dict = {}\n",
    "    for episode in episodes:\n",
    "        episode_dict = {}\n",
    "        for character in characters:\n",
    "            character_dict = {}\n",
    "            for sentence in sentences:\n",
    "                if sentence in df[(df['Season'] == season) & (df['Episode'] == episode) & (df['Name'] == character)]['Sentence'].values:\n",
    "                    character_dict[sentence] = sentence\n",
    "            episode_dict[character] = character_dict\n",
    "        season_dict[episode] = episode_dict\n",
    "    seasons_list.append(season_dict) \"\"\"\n",
    "\n",
    "\n",
    "#For each episode create a list of all the characters with the character name and csv line number. Do not include the sentences that are not spoken by any character\n",
    "#Store the list in a dictionary for each season\n",
    "seasons_list = []\n",
    "\n",
    "for season in seasons:\n",
    "    season_dict = {}\n",
    "    for episode in episodes:\n",
    "        episode_dict = {}\n",
    "        for character in characters:\n",
    "            interaction_list = []\n",
    "            #put all interations in a list\n",
    "            for sentence in sentences:\n",
    "                if sentence in df[(df['Season'] == season) & (df['Episode'] == episode)]:\n",
    "                    #Add the character name and csv line number to the list\n",
    "                    interaction_list.append([character, df[(df['Season'] == season) & (df['Episode'] == episode) & (df['Name'] == character) & (df['Sentence'] == sentence)].index.values[0]])\n",
    "                    \n",
    "            episode_dict[character] = interaction_list\n",
    "        season_dict[episode] = episode_dict\n",
    "    seasons_list.append(season_dict)\n",
    "\n",
    "\n"
   ]
  },
  {
   "cell_type": "code",
   "execution_count": 3,
   "metadata": {},
   "outputs": [],
   "source": [
    "import pandas as pd\n",
    "from collections import defaultdict\n",
    "\n",
    "# Load the CSV file into a DataFrame\n",
    "df = pd.read_csv('Game_of_Thrones_Script.csv')\n",
    "\n",
    "# Initialize a dictionary to hold interaction matrices for each episode\n",
    "interaction_matrices = defaultdict(lambda: defaultdict(int))\n",
    "\n",
    "# Iterate over the DataFrame\n",
    "for i, row in df.iterrows():\n",
    "    # Get the current character and episode\n",
    "    current_character = row['Name']\n",
    "    episode_key = (row['Season'], row['Episode'])\n",
    "\n",
    "    # Find interactions by looking at the next 5 lines\n",
    "    for j in range(i+1, min(i+6, len(df))):\n",
    "        next_row = df.iloc[j]\n",
    "        # Check if the next line is within the same episode\n",
    "        if episode_key == (next_row['Season'], next_row['Episode']):\n",
    "            next_character = next_row['Name']\n",
    "            if current_character != next_character:\n",
    "                # Increment the interaction count in both directions\n",
    "                interaction_matrices[episode_key][(current_character, next_character)] += 1\n",
    "                interaction_matrices[episode_key][(next_character, current_character)] += 1\n",
    "\n",
    "# Consolidate the interaction counts so each pair is only counted once\n",
    "consolidated_interactions = {}\n",
    "\n",
    "for episode_key, interactions in interaction_matrices.items():\n",
    "    consolidated_interactions[episode_key] = defaultdict(int)\n",
    "    for (char_a, char_b), count in interactions.items():\n",
    "        if (char_b, char_a) in consolidated_interactions[episode_key]:\n",
    "            continue  # Skip if already counted in reverse order\n",
    "        total_count = count + interactions.get((char_b, char_a), 0)\n",
    "        consolidated_interactions[episode_key][(char_a, char_b)] = total_count\n",
    "\n"
   ]
  },
  {
   "cell_type": "code",
   "execution_count": 5,
   "metadata": {},
   "outputs": [
    {
     "name": "stdout",
     "output_type": "stream",
     "text": [
      "Season: nan\n",
      "Episode: nan\n",
      "[((nan, nan), 72908)]\n",
      "\n",
      "\n",
      "Episode: Episode 1\n"
     ]
    },
    {
     "ename": "KeyError",
     "evalue": "(nan, 'Episode 1')",
     "output_type": "error",
     "traceback": [
      "\u001b[1;31m---------------------------------------------------------------------------\u001b[0m",
      "\u001b[1;31mKeyError\u001b[0m                                  Traceback (most recent call last)",
      "\u001b[1;32m~\\AppData\\Local\\Temp\\ipykernel_26268\\1351659503.py\u001b[0m in \u001b[0;36m<module>\u001b[1;34m\u001b[0m\n\u001b[0;32m      4\u001b[0m     \u001b[1;32mfor\u001b[0m \u001b[0mepisode\u001b[0m \u001b[1;32min\u001b[0m \u001b[0mepisodes\u001b[0m\u001b[1;33m:\u001b[0m\u001b[1;33m\u001b[0m\u001b[1;33m\u001b[0m\u001b[0m\n\u001b[0;32m      5\u001b[0m         \u001b[0mprint\u001b[0m\u001b[1;33m(\u001b[0m\u001b[1;34m'Episode: '\u001b[0m \u001b[1;33m+\u001b[0m \u001b[0mstr\u001b[0m\u001b[1;33m(\u001b[0m\u001b[0mepisode\u001b[0m\u001b[1;33m)\u001b[0m\u001b[1;33m)\u001b[0m\u001b[1;33m\u001b[0m\u001b[1;33m\u001b[0m\u001b[0m\n\u001b[1;32m----> 6\u001b[1;33m         \u001b[0mprint\u001b[0m\u001b[1;33m(\u001b[0m\u001b[0msorted\u001b[0m\u001b[1;33m(\u001b[0m\u001b[0mconsolidated_interactions\u001b[0m\u001b[1;33m[\u001b[0m\u001b[1;33m(\u001b[0m\u001b[0mseason\u001b[0m\u001b[1;33m,\u001b[0m \u001b[0mepisode\u001b[0m\u001b[1;33m)\u001b[0m\u001b[1;33m]\u001b[0m\u001b[1;33m.\u001b[0m\u001b[0mitems\u001b[0m\u001b[1;33m(\u001b[0m\u001b[1;33m)\u001b[0m\u001b[1;33m,\u001b[0m \u001b[0mkey\u001b[0m\u001b[1;33m=\u001b[0m\u001b[1;32mlambda\u001b[0m \u001b[0mx\u001b[0m\u001b[1;33m:\u001b[0m \u001b[0mx\u001b[0m\u001b[1;33m[\u001b[0m\u001b[1;36m1\u001b[0m\u001b[1;33m]\u001b[0m\u001b[1;33m,\u001b[0m \u001b[0mreverse\u001b[0m\u001b[1;33m=\u001b[0m\u001b[1;32mTrue\u001b[0m\u001b[1;33m)\u001b[0m\u001b[1;33m[\u001b[0m\u001b[1;33m:\u001b[0m\u001b[1;36m10\u001b[0m\u001b[1;33m]\u001b[0m\u001b[1;33m)\u001b[0m\u001b[1;33m\u001b[0m\u001b[1;33m\u001b[0m\u001b[0m\n\u001b[0m\u001b[0;32m      7\u001b[0m         \u001b[0mprint\u001b[0m\u001b[1;33m(\u001b[0m\u001b[1;34m'\\n'\u001b[0m\u001b[1;33m)\u001b[0m\u001b[1;33m\u001b[0m\u001b[1;33m\u001b[0m\u001b[0m\n",
      "\u001b[1;31mKeyError\u001b[0m: (nan, 'Episode 1')"
     ]
    }
   ],
   "source": [
    "#For each season print the top 10 interactions in the matrix\n",
    "for season in seasons:\n",
    "    print('Season: ' + str(season))\n",
    "    for episode in episodes:\n",
    "        print('Episode: ' + str(episode))\n",
    "        print(sorted(consolidated_interactions[(season, episode)].items(), key=lambda x: x[1], reverse=True)[:10])\n",
    "        print('\\n')"
   ]
  },
  {
   "cell_type": "code",
   "execution_count": null,
   "metadata": {},
   "outputs": [],
   "source": []
  }
 ],
 "metadata": {
  "kernelspec": {
   "display_name": "base",
   "language": "python",
   "name": "python3"
  },
  "language_info": {
   "codemirror_mode": {
    "name": "ipython",
    "version": 3
   },
   "file_extension": ".py",
   "mimetype": "text/x-python",
   "name": "python",
   "nbconvert_exporter": "python",
   "pygments_lexer": "ipython3",
   "version": "3.9.13"
  }
 },
 "nbformat": 4,
 "nbformat_minor": 2
}
