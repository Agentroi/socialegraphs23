{
 "cells": [
  {
   "cell_type": "markdown",
   "metadata": {},
   "source": []
  },
  {
   "cell_type": "code",
   "execution_count": null,
   "metadata": {},
   "outputs": [],
   "source": []
  },
  {
   "cell_type": "markdown",
   "metadata": {},
   "source": [
    "## Statistical Correlation Overview\n",
    "\n",
    "Statistical correlation is a measure that describes the extent to which two variables change together. In our context, we are interested in how the IMDb scores of 'Game of Thrones' episodes or seasons correlate with other variables (like episode or season number).\n",
    "\n",
    "### Key Points:\n",
    "\n",
    "- **Pearson Correlation Coefficient**: This is the most commonly used correlation measure. The Pearson correlation coefficient $ r $ is calculated as follows:\n",
    "\n",
    "  $$\n",
    "  r = \\frac{\\sum (X_i - \\bar{X})(Y_i - \\bar{Y})}{\\sqrt{\\sum (X_i - \\bar{X})^2 \\sum (Y_i - \\bar{Y})^2}}\n",
    "  $$\n",
    "\n",
    "  Where:\n",
    "  - $ X_i $ and $ Y_i $ are individual sample points.\n",
    "  - $ \\bar{X} $ and $ \\bar{Y} $ are means of the samples $ X $ and $ Y $.\n",
    "  - The summation is over all sample points.\n",
    "\n",
    "  The coefficient ranges from -1 to 1, where 1 indicates a perfect positive correlation, -1 indicates a perfect negative correlation, and 0 indicates no correlation.\n",
    "\n",
    "- **Positive vs Negative Correlation**:\n",
    "  - *Positive Correlation*: As one variable increases, the other variable also increases.\n",
    "  - *Negative Correlation*: As one variable increases, the other variable decreases.\n",
    "\n",
    "- **Statistical Significance**: It’s important to determine whether a calculated correlation is statistically significant, which often requires further statistical testing.\n",
    "\n",
    "### Usage in Our Analysis:\n",
    "\n",
    "We will calculate the Pearson correlation coefficient to understand the relationship between IMDb scores and either episode numbers or season numbers. However, it's important to remember that correlation does not imply causation. A high or low correlation does not mean that one variable causes the other to change.\n"
   ]
  }
 ],
 "metadata": {
  "kernelspec": {
   "display_name": "Python 3.11.3 64-bit",
   "language": "python",
   "name": "python3"
  },
  "language_info": {
   "name": "python",
   "version": "3.11.3"
  },
  "orig_nbformat": 4,
  "vscode": {
   "interpreter": {
    "hash": "aee8b7b246df8f9039afb4144a1f6fd8d2ca17a180786b69acc140d282b71a49"
   }
  }
 },
 "nbformat": 4,
 "nbformat_minor": 2
}
