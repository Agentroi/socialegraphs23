{
 "cells": [
  {
   "cell_type": "code",
   "execution_count": 5,
   "metadata": {},
   "outputs": [
    {
     "ename": "AttributeError",
     "evalue": "'DataFrame' object has no attribute 'Sentence'",
     "output_type": "error",
     "traceback": [
      "\u001b[0;31m---------------------------------------------------------------------------\u001b[0m",
      "\u001b[0;31mAttributeError\u001b[0m                            Traceback (most recent call last)",
      "\u001b[0;32m/var/folders/yz/2drg29wx26n21m9fzrtq767m0000gn/T/ipykernel_43530/355271598.py\u001b[0m in \u001b[0;36m?\u001b[0;34m()\u001b[0m\n\u001b[1;32m     19\u001b[0m \u001b[0;31m#Create a list of all the characters\u001b[0m\u001b[0;34m\u001b[0m\u001b[0;34m\u001b[0m\u001b[0m\n\u001b[1;32m     20\u001b[0m \u001b[0mcharacters\u001b[0m \u001b[0;34m=\u001b[0m \u001b[0mdf\u001b[0m\u001b[0;34m.\u001b[0m\u001b[0mName\u001b[0m\u001b[0;34m.\u001b[0m\u001b[0munique\u001b[0m\u001b[0;34m(\u001b[0m\u001b[0;34m)\u001b[0m\u001b[0;34m.\u001b[0m\u001b[0mtolist\u001b[0m\u001b[0;34m(\u001b[0m\u001b[0;34m)\u001b[0m\u001b[0;34m\u001b[0m\u001b[0;34m\u001b[0m\u001b[0m\n\u001b[1;32m     21\u001b[0m \u001b[0;34m\u001b[0m\u001b[0m\n\u001b[1;32m     22\u001b[0m \u001b[0;31m#Create a list of all the sentences\u001b[0m\u001b[0;34m\u001b[0m\u001b[0;34m\u001b[0m\u001b[0m\n\u001b[0;32m---> 23\u001b[0;31m \u001b[0msentences\u001b[0m \u001b[0;34m=\u001b[0m \u001b[0mdf\u001b[0m\u001b[0;34m.\u001b[0m\u001b[0mSentence\u001b[0m\u001b[0;34m.\u001b[0m\u001b[0munique\u001b[0m\u001b[0;34m(\u001b[0m\u001b[0;34m)\u001b[0m\u001b[0;34m.\u001b[0m\u001b[0mtolist\u001b[0m\u001b[0;34m(\u001b[0m\u001b[0;34m)\u001b[0m\u001b[0;34m\u001b[0m\u001b[0;34m\u001b[0m\u001b[0m\n\u001b[0m\u001b[1;32m     24\u001b[0m \u001b[0;34m\u001b[0m\u001b[0m\n\u001b[1;32m     25\u001b[0m \u001b[0;31m#Create a list of all the episode. Give each episode a name season_X_episode_Y, where X is the season number and Y is the episode number\u001b[0m\u001b[0;34m\u001b[0m\u001b[0;34m\u001b[0m\u001b[0m\n\u001b[1;32m     26\u001b[0m \u001b[0mepisodes_list\u001b[0m \u001b[0;34m=\u001b[0m \u001b[0;34m[\u001b[0m\u001b[0;34m]\u001b[0m\u001b[0;34m\u001b[0m\u001b[0;34m\u001b[0m\u001b[0m\n",
      "\u001b[0;32m/Library/Frameworks/Python.framework/Versions/3.11/lib/python3.11/site-packages/pandas/core/generic.py\u001b[0m in \u001b[0;36m?\u001b[0;34m(self, name)\u001b[0m\n\u001b[1;32m   5985\u001b[0m             \u001b[0;32mand\u001b[0m \u001b[0mname\u001b[0m \u001b[0;32mnot\u001b[0m \u001b[0;32min\u001b[0m \u001b[0mself\u001b[0m\u001b[0;34m.\u001b[0m\u001b[0m_accessors\u001b[0m\u001b[0;34m\u001b[0m\u001b[0;34m\u001b[0m\u001b[0m\n\u001b[1;32m   5986\u001b[0m             \u001b[0;32mand\u001b[0m \u001b[0mself\u001b[0m\u001b[0;34m.\u001b[0m\u001b[0m_info_axis\u001b[0m\u001b[0;34m.\u001b[0m\u001b[0m_can_hold_identifiers_and_holds_name\u001b[0m\u001b[0;34m(\u001b[0m\u001b[0mname\u001b[0m\u001b[0;34m)\u001b[0m\u001b[0;34m\u001b[0m\u001b[0;34m\u001b[0m\u001b[0m\n\u001b[1;32m   5987\u001b[0m         ):\n\u001b[1;32m   5988\u001b[0m             \u001b[0;32mreturn\u001b[0m \u001b[0mself\u001b[0m\u001b[0;34m[\u001b[0m\u001b[0mname\u001b[0m\u001b[0;34m]\u001b[0m\u001b[0;34m\u001b[0m\u001b[0;34m\u001b[0m\u001b[0m\n\u001b[0;32m-> 5989\u001b[0;31m         \u001b[0;32mreturn\u001b[0m \u001b[0mobject\u001b[0m\u001b[0;34m.\u001b[0m\u001b[0m__getattribute__\u001b[0m\u001b[0;34m(\u001b[0m\u001b[0mself\u001b[0m\u001b[0;34m,\u001b[0m \u001b[0mname\u001b[0m\u001b[0;34m)\u001b[0m\u001b[0;34m\u001b[0m\u001b[0;34m\u001b[0m\u001b[0m\n\u001b[0m",
      "\u001b[0;31mAttributeError\u001b[0m: 'DataFrame' object has no attribute 'Sentence'"
     ]
    }
   ],
   "source": [
    "#Fetch the transcript from the csv file Game_of_Thrones_Script.csv\n",
    "#Format: Release Date,Season,Episode,Episode Title,Name,Sentence\n",
    "#Collect all characters and their sentences in a dictionary for each episode\n",
    "#Store the dictionary in a list for each season\n",
    "\n",
    "import csv\n",
    "import re\n",
    "import pandas as pd\n",
    "\n",
    "#Read the csv file\n",
    "df = pd.read_csv('Game_of_Thrones_Script.csv')\n",
    "\n",
    "#Create a list of all the seasons\n",
    "seasons = df.Season.unique().tolist()\n",
    "\n",
    "#Create a list of all the episodes\n",
    "episodes = df.Episode.unique().tolist()\n",
    "\n",
    "#Create a list of all the characters\n",
    "characters = df.Name.unique().tolist()\n",
    "\n",
    "#Create a list of all the sentences\n",
    "sentences = df.Sentence.unique().tolist()\n",
    "\n",
    "#Create a list of all the episode. Give each episode a name season_X_episode_Y, where X is the season number and Y is the episode number\n",
    "episodes_list = []\n",
    "for season in seasons:\n",
    "    for episode in episodes:\n",
    "        episodes_list.append('season_' + str(season) + '_episode_' + str(episode))\n",
    "\n",
    "\n",
    "#Collect all characters and their sentences in a dictionary for each episode\n",
    "#Store the dictionary in a list for each season\n",
    "\"\"\" seasons_list = []\n",
    "\n",
    "for season in seasons:\n",
    "    season_dict = {}\n",
    "    for episode in episodes:\n",
    "        episode_dict = {}\n",
    "        for character in characters:\n",
    "            character_dict = {}\n",
    "            for sentence in sentences:\n",
    "                if sentence in df[(df['Season'] == season) & (df['Episode'] == episode) & (df['Name'] == character)]['Sentence'].values:\n",
    "                    character_dict[sentence] = sentence\n",
    "            episode_dict[character] = character_dict\n",
    "        season_dict[episode] = episode_dict\n",
    "    seasons_list.append(season_dict) \"\"\"\n",
    "\n",
    "\n",
    "#For each episode create a list of all the characters with the character name and csv line number. Do not include the sentences that are not spoken by any character\n",
    "#Store the list in a dictionary for each season\n",
    "seasons_list = []\n",
    "\n",
    "for season in seasons:\n",
    "    season_dict = {}\n",
    "    for episode in episodes:\n",
    "        episode_dict = {}\n",
    "        for character in characters:\n",
    "            interaction_list = []\n",
    "            #put all interations in a list\n",
    "            for sentence in sentences:\n",
    "                if sentence in df[(df['Season'] == season) & (df['Episode'] == episode)]:\n",
    "                    #Add the character name and csv line number to the list\n",
    "                    interaction_list.append([character, df[(df['Season'] == season) & (df['Episode'] == episode) & (df['Name'] == character) & (df['Sentence'] == sentence)].index.values[0]])\n",
    "                    \n",
    "            episode_dict[character] = interaction_list\n",
    "        season_dict[episode] = episode_dict\n",
    "    seasons_list.append(season_dict)\n",
    "\n",
    "\n"
   ]
  },
  {
   "cell_type": "code",
   "execution_count": 1,
   "metadata": {},
   "outputs": [],
   "source": [
    "import pandas as pd\n",
    "from collections import defaultdict\n",
    "\n",
    "# Load the CSV file into a DataFrame\n",
    "df = pd.read_csv('Game_of_Thrones_Script.csv')\n",
    "\n",
    "# Initialize a dictionary to hold interaction matrices for each episode\n",
    "interaction_matrices = defaultdict(lambda: defaultdict(int))\n",
    "\n",
    "# Iterate over the DataFrame\n",
    "for i, row in df.iterrows():\n",
    "    # Get the current character and episode\n",
    "    current_character = row['Name']\n",
    "    episode_key = (row['Season'], row['Episode'])\n",
    "\n",
    "    # Find interactions by looking at the next 5 lines\n",
    "    for j in range(i+1, min(i+6, len(df))):\n",
    "        next_row = df.iloc[j]\n",
    "        # Check if the next line is within the same episode\n",
    "        if episode_key == (next_row['Season'], next_row['Episode']):\n",
    "            next_character = next_row['Name']\n",
    "            if current_character != next_character:\n",
    "                # Increment the interaction count in both directions\n",
    "                interaction_matrices[episode_key][(current_character, next_character)] += 1\n",
    "                interaction_matrices[episode_key][(next_character, current_character)] += 1\n",
    "\n",
    "# Consolidate the interaction counts so each pair is only counted once\n",
    "consolidated_interactions = {}\n",
    "\n",
    "for episode_key, interactions in interaction_matrices.items():\n",
    "    consolidated_interactions[episode_key] = defaultdict(int)\n",
    "    for (char_a, char_b), count in interactions.items():\n",
    "        if (char_b, char_a) in consolidated_interactions[episode_key]:\n",
    "            continue  # Skip if already counted in reverse order\n",
    "        total_count = count + interactions.get((char_b, char_a), 0)\n",
    "        consolidated_interactions[episode_key][(char_a, char_b)] = total_count\n",
    "\n"
   ]
  },
  {
   "cell_type": "code",
   "execution_count": 2,
   "metadata": {},
   "outputs": [
    {
     "ename": "NameError",
     "evalue": "name 'seasons' is not defined",
     "output_type": "error",
     "traceback": [
      "\u001b[0;31m---------------------------------------------------------------------------\u001b[0m",
      "\u001b[0;31mNameError\u001b[0m                                 Traceback (most recent call last)",
      "Cell \u001b[0;32mIn[2], line 2\u001b[0m\n\u001b[1;32m      1\u001b[0m \u001b[39m#For each season print the top 10 interactions in the matrix\u001b[39;00m\n\u001b[0;32m----> 2\u001b[0m \u001b[39mfor\u001b[39;00m season \u001b[39min\u001b[39;00m seasons:\n\u001b[1;32m      3\u001b[0m     \u001b[39mprint\u001b[39m(\u001b[39m'\u001b[39m\u001b[39mSeason: \u001b[39m\u001b[39m'\u001b[39m \u001b[39m+\u001b[39m \u001b[39mstr\u001b[39m(season))\n\u001b[1;32m      4\u001b[0m     \u001b[39mfor\u001b[39;00m episode \u001b[39min\u001b[39;00m episodes:\n",
      "\u001b[0;31mNameError\u001b[0m: name 'seasons' is not defined"
     ]
    }
   ],
   "source": [
    "#For each season print the top 10 interactions in the matrix\n",
    "for season in seasons:\n",
    "    print('Season: ' + str(season))\n",
    "    for episode in episodes:\n",
    "        print('Episode: ' + str(episode))\n",
    "        print(sorted(consolidated_interactions[(season, episode)].items(), key=lambda x: x[1], reverse=True)[:10])\n",
    "        print('\\n')"
   ]
  },
  {
   "cell_type": "code",
   "execution_count": null,
   "metadata": {},
   "outputs": [],
   "source": []
  }
 ],
 "metadata": {
  "kernelspec": {
   "display_name": "Python 3.11.3 64-bit",
   "language": "python",
   "name": "python3"
  },
  "language_info": {
   "codemirror_mode": {
    "name": "ipython",
    "version": 3
   },
   "file_extension": ".py",
   "mimetype": "text/x-python",
   "name": "python",
   "nbconvert_exporter": "python",
   "pygments_lexer": "ipython3",
   "version": "3.11.3"
  },
  "vscode": {
   "interpreter": {
    "hash": "aee8b7b246df8f9039afb4144a1f6fd8d2ca17a180786b69acc140d282b71a49"
   }
  }
 },
 "nbformat": 4,
 "nbformat_minor": 2
}
